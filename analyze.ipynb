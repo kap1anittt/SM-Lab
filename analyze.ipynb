{
 "cells": [
  {
   "cell_type": "markdown",
   "metadata": {},
   "source": [
    "# SM Lab: воронка онлайн-продаж"
   ]
  },
  {
   "cell_type": "markdown",
   "metadata": {},
   "source": [
    "Описание базы: Данные содержат информацию о взаимодействии пользователей\n",
    "с диджитал каналами Спортмастера (мобильное приложение, сайт) в период\n",
    "с 01.06.2024 по 21.06.2024. \n",
    "Датасет содержит информацию по этапам воронки\n",
    "продаж (клики на карточку товара, добавления в корзину, оформление заказа).\n",
    "За основу взяты clickstream данные пользователей, собранные с диджитал\n",
    "каналов Спортмастера (сайт, мобильное приложение)."
   ]
  },
  {
   "cell_type": "code",
   "execution_count": 4,
   "metadata": {},
   "outputs": [],
   "source": [
    "import pandas as pd \n",
    "import matplotlib.pyplot as plt \n",
    "import numpy as np \n",
    "import seaborn as sns"
   ]
  },
  {
   "cell_type": "markdown",
   "metadata": {},
   "source": [
    "## Загрузка данных"
   ]
  },
  {
   "cell_type": "code",
   "execution_count": 5,
   "metadata": {},
   "outputs": [
    {
     "data": {
      "text/html": [
       "<div>\n",
       "<style scoped>\n",
       "    .dataframe tbody tr th:only-of-type {\n",
       "        vertical-align: middle;\n",
       "    }\n",
       "\n",
       "    .dataframe tbody tr th {\n",
       "        vertical-align: top;\n",
       "    }\n",
       "\n",
       "    .dataframe thead th {\n",
       "        text-align: right;\n",
       "    }\n",
       "</style>\n",
       "<table border=\"1\" class=\"dataframe\">\n",
       "  <thead>\n",
       "    <tr style=\"text-align: right;\">\n",
       "      <th></th>\n",
       "      <th>device_type</th>\n",
       "      <th>event_id</th>\n",
       "      <th>user_id</th>\n",
       "      <th>user_is_authorized</th>\n",
       "      <th>location_id</th>\n",
       "      <th>create_timestamp</th>\n",
       "      <th>product_id</th>\n",
       "      <th>product_is_pick_up</th>\n",
       "      <th>product_is_pick_point</th>\n",
       "      <th>product_is_delivery</th>\n",
       "      <th>product_is_now</th>\n",
       "      <th>product_price</th>\n",
       "      <th>product_category</th>\n",
       "      <th>product_gender</th>\n",
       "      <th>product_age</th>\n",
       "      <th>brand_lvl</th>\n",
       "      <th>add_to_cart_flag</th>\n",
       "      <th>create_order_flag</th>\n",
       "    </tr>\n",
       "  </thead>\n",
       "  <tbody>\n",
       "    <tr>\n",
       "      <th>0</th>\n",
       "      <td>desktop</td>\n",
       "      <td>044bb490-c344-4947-9d34-e61cc0171bbb</td>\n",
       "      <td>14</td>\n",
       "      <td>0</td>\n",
       "      <td>2270</td>\n",
       "      <td>2024-06-02T16:15:52.826Z</td>\n",
       "      <td>20864</td>\n",
       "      <td>1</td>\n",
       "      <td>1</td>\n",
       "      <td>1</td>\n",
       "      <td>0</td>\n",
       "      <td>5599</td>\n",
       "      <td>инвентарь</td>\n",
       "      <td>унисекс</td>\n",
       "      <td>взрослые</td>\n",
       "      <td>2</td>\n",
       "      <td>0</td>\n",
       "      <td>0</td>\n",
       "    </tr>\n",
       "    <tr>\n",
       "      <th>1</th>\n",
       "      <td>mobileapp_android</td>\n",
       "      <td>c1deba65-7b82-4fa8-848e-363f8745bccd</td>\n",
       "      <td>45</td>\n",
       "      <td>0</td>\n",
       "      <td>2080</td>\n",
       "      <td>2024-06-21T02:10:03.551Z</td>\n",
       "      <td>34819</td>\n",
       "      <td>1</td>\n",
       "      <td>1</td>\n",
       "      <td>1</td>\n",
       "      <td>1</td>\n",
       "      <td>3599</td>\n",
       "      <td>одежда</td>\n",
       "      <td>мужской</td>\n",
       "      <td>взрослые</td>\n",
       "      <td>0</td>\n",
       "      <td>0</td>\n",
       "      <td>0</td>\n",
       "    </tr>\n",
       "    <tr>\n",
       "      <th>2</th>\n",
       "      <td>desktop</td>\n",
       "      <td>a60f006c-cc65-4e4d-841c-627a2d7f4f54</td>\n",
       "      <td>108</td>\n",
       "      <td>0</td>\n",
       "      <td>968</td>\n",
       "      <td>2024-06-01T14:35:00.154Z</td>\n",
       "      <td>44123</td>\n",
       "      <td>0</td>\n",
       "      <td>1</td>\n",
       "      <td>1</td>\n",
       "      <td>1</td>\n",
       "      <td>8499</td>\n",
       "      <td>одежда</td>\n",
       "      <td>мужской</td>\n",
       "      <td>взрослые</td>\n",
       "      <td>1</td>\n",
       "      <td>0</td>\n",
       "      <td>0</td>\n",
       "    </tr>\n",
       "    <tr>\n",
       "      <th>3</th>\n",
       "      <td>desktop</td>\n",
       "      <td>5d00c0b7-1824-4f0d-94a1-d912b6490a28</td>\n",
       "      <td>145</td>\n",
       "      <td>0</td>\n",
       "      <td>725</td>\n",
       "      <td>2024-06-08T20:23:02.677Z</td>\n",
       "      <td>58259</td>\n",
       "      <td>1</td>\n",
       "      <td>1</td>\n",
       "      <td>1</td>\n",
       "      <td>0</td>\n",
       "      <td>4874</td>\n",
       "      <td>обувь</td>\n",
       "      <td>женский</td>\n",
       "      <td>взрослые</td>\n",
       "      <td>1</td>\n",
       "      <td>0</td>\n",
       "      <td>0</td>\n",
       "    </tr>\n",
       "    <tr>\n",
       "      <th>4</th>\n",
       "      <td>desktop</td>\n",
       "      <td>57035133-63bd-406b-916b-f7574f7e3827</td>\n",
       "      <td>145</td>\n",
       "      <td>0</td>\n",
       "      <td>725</td>\n",
       "      <td>2024-06-08T18:30:02.839Z</td>\n",
       "      <td>58257</td>\n",
       "      <td>1</td>\n",
       "      <td>1</td>\n",
       "      <td>1</td>\n",
       "      <td>1</td>\n",
       "      <td>4874</td>\n",
       "      <td>обувь</td>\n",
       "      <td>мужской</td>\n",
       "      <td>взрослые</td>\n",
       "      <td>1</td>\n",
       "      <td>0</td>\n",
       "      <td>0</td>\n",
       "    </tr>\n",
       "  </tbody>\n",
       "</table>\n",
       "</div>"
      ],
      "text/plain": [
       "         device_type                              event_id  user_id  \\\n",
       "0            desktop  044bb490-c344-4947-9d34-e61cc0171bbb       14   \n",
       "1  mobileapp_android  c1deba65-7b82-4fa8-848e-363f8745bccd       45   \n",
       "2            desktop  a60f006c-cc65-4e4d-841c-627a2d7f4f54      108   \n",
       "3            desktop  5d00c0b7-1824-4f0d-94a1-d912b6490a28      145   \n",
       "4            desktop  57035133-63bd-406b-916b-f7574f7e3827      145   \n",
       "\n",
       "   user_is_authorized  location_id          create_timestamp  product_id  \\\n",
       "0                   0         2270  2024-06-02T16:15:52.826Z       20864   \n",
       "1                   0         2080  2024-06-21T02:10:03.551Z       34819   \n",
       "2                   0          968  2024-06-01T14:35:00.154Z       44123   \n",
       "3                   0          725  2024-06-08T20:23:02.677Z       58259   \n",
       "4                   0          725  2024-06-08T18:30:02.839Z       58257   \n",
       "\n",
       "   product_is_pick_up  product_is_pick_point  product_is_delivery  \\\n",
       "0                   1                      1                    1   \n",
       "1                   1                      1                    1   \n",
       "2                   0                      1                    1   \n",
       "3                   1                      1                    1   \n",
       "4                   1                      1                    1   \n",
       "\n",
       "   product_is_now  product_price product_category product_gender product_age  \\\n",
       "0               0           5599        инвентарь        унисекс    взрослые   \n",
       "1               1           3599           одежда        мужской    взрослые   \n",
       "2               1           8499           одежда        мужской    взрослые   \n",
       "3               0           4874            обувь        женский    взрослые   \n",
       "4               1           4874            обувь        мужской    взрослые   \n",
       "\n",
       "  brand_lvl  add_to_cart_flag  create_order_flag  \n",
       "0         2                 0                  0  \n",
       "1         0                 0                  0  \n",
       "2         1                 0                  0  \n",
       "3         1                 0                  0  \n",
       "4         1                 0                  0  "
      ]
     },
     "execution_count": 5,
     "metadata": {},
     "output_type": "execute_result"
    }
   ],
   "source": [
    "#df = pd.read_csv('sportmaster_dataset.csv')\n",
    "df = pd.read_csv('sm_verySmall_random.csv')\n",
    "df.head(5)"
   ]
  },
  {
   "cell_type": "code",
   "execution_count": 6,
   "metadata": {},
   "outputs": [
    {
     "name": "stdout",
     "output_type": "stream",
     "text": [
      "<class 'pandas.core.frame.DataFrame'>\n",
      "RangeIndex: 99617 entries, 0 to 99616\n",
      "Data columns (total 18 columns):\n",
      " #   Column                 Non-Null Count  Dtype \n",
      "---  ------                 --------------  ----- \n",
      " 0   device_type            99617 non-null  object\n",
      " 1   event_id               99617 non-null  object\n",
      " 2   user_id                99617 non-null  int64 \n",
      " 3   user_is_authorized     99617 non-null  int64 \n",
      " 4   location_id            99617 non-null  int64 \n",
      " 5   create_timestamp       99617 non-null  object\n",
      " 6   product_id             99617 non-null  int64 \n",
      " 7   product_is_pick_up     99617 non-null  int64 \n",
      " 8   product_is_pick_point  99617 non-null  int64 \n",
      " 9   product_is_delivery    99617 non-null  int64 \n",
      " 10  product_is_now         99617 non-null  int64 \n",
      " 11  product_price          99617 non-null  int64 \n",
      " 12  product_category       99617 non-null  object\n",
      " 13  product_gender         99617 non-null  object\n",
      " 14  product_age            99617 non-null  object\n",
      " 15  brand_lvl              99617 non-null  object\n",
      " 16  add_to_cart_flag       99617 non-null  int64 \n",
      " 17  create_order_flag      99617 non-null  int64 \n",
      "dtypes: int64(11), object(7)\n",
      "memory usage: 13.7+ MB\n"
     ]
    }
   ],
   "source": [
    "df.info()"
   ]
  },
  {
   "cell_type": "markdown",
   "metadata": {},
   "source": [
    "## EDA "
   ]
  },
  {
   "cell_type": "markdown",
   "metadata": {},
   "source": [
    "### Проверка пропущеных значений"
   ]
  },
  {
   "cell_type": "code",
   "execution_count": 7,
   "metadata": {},
   "outputs": [
    {
     "data": {
      "text/plain": [
       "device_type              0\n",
       "event_id                 0\n",
       "user_id                  0\n",
       "user_is_authorized       0\n",
       "location_id              0\n",
       "create_timestamp         0\n",
       "product_id               0\n",
       "product_is_pick_up       0\n",
       "product_is_pick_point    0\n",
       "product_is_delivery      0\n",
       "product_is_now           0\n",
       "product_price            0\n",
       "product_category         0\n",
       "product_gender           0\n",
       "product_age              0\n",
       "brand_lvl                0\n",
       "add_to_cart_flag         0\n",
       "create_order_flag        0\n",
       "dtype: int64"
      ]
     },
     "execution_count": 7,
     "metadata": {},
     "output_type": "execute_result"
    }
   ],
   "source": [
    "df.isna().sum()"
   ]
  },
  {
   "cell_type": "code",
   "execution_count": 8,
   "metadata": {},
   "outputs": [],
   "source": [
    "cols = ['product_is_pick_up', 'product_is_pick_point', 'product_is_delivery', 'product_is_now']\n",
    "df = df.dropna(subset=cols)"
   ]
  },
  {
   "cell_type": "markdown",
   "metadata": {},
   "source": [
    "Очищаем строки, где есть пустое значение, т.к. 11 незначительное количество строк, по сравнению с 7000000"
   ]
  },
  {
   "cell_type": "markdown",
   "metadata": {},
   "source": [
    "### Дубликаты"
   ]
  },
  {
   "cell_type": "code",
   "execution_count": 9,
   "metadata": {},
   "outputs": [
    {
     "data": {
      "text/plain": [
       "np.int64(0)"
      ]
     },
     "execution_count": 9,
     "metadata": {},
     "output_type": "execute_result"
    }
   ],
   "source": [
    "df.duplicated().sum()"
   ]
  },
  {
   "cell_type": "code",
   "execution_count": 10,
   "metadata": {},
   "outputs": [
    {
     "data": {
      "text/plain": [
       "99617"
      ]
     },
     "execution_count": 10,
     "metadata": {},
     "output_type": "execute_result"
    }
   ],
   "source": [
    "df = df.drop_duplicates()\n",
    "len(df)"
   ]
  },
  {
   "cell_type": "markdown",
   "metadata": {},
   "source": [
    "### Создание полезных признаков из временной метки и перевод значений в int "
   ]
  },
  {
   "cell_type": "code",
   "execution_count": 11,
   "metadata": {},
   "outputs": [],
   "source": [
    "#df['create_timestamp'] = pd.to_datetime(df['create_timestamp'])\n",
    "df['create_timestamp'] = pd.to_datetime(df['create_timestamp'], format='ISO8601')\n",
    "df['date'] = df['create_timestamp'].dt.date\n",
    "df['hour'] = df['create_timestamp'].dt.hour\n",
    "\n",
    "df['user_id'] = df['user_id'].astype(str)\n",
    "df['product_id'] = df['product_id'].astype(str)\n",
    "df['location_id'] = df['location_id'].astype(str)"
   ]
  },
  {
   "cell_type": "markdown",
   "metadata": {},
   "source": [
    "## Анализ воронки продаж"
   ]
  },
  {
   "cell_type": "markdown",
   "metadata": {},
   "source": [
    "### Общие метрики воронки"
   ]
  },
  {
   "cell_type": "code",
   "execution_count": 12,
   "metadata": {},
   "outputs": [
    {
     "name": "stdout",
     "output_type": "stream",
     "text": [
      "Анализ общей воронки продаж:\n",
      "Количество просмотров карточек: 99617\n",
      "Количество добавлений в корзину: 18790\n",
      "Количество оформленных заказов: 5071\n",
      "Конверсия просмотр -> корзина: 18.86%\n",
      "Конверсия корзина -> заказ: 26.99%\n"
     ]
    }
   ],
   "source": [
    "total_views = df.shape[0]\n",
    "added_to_cart = df[df['add_to_cart_flag'] == 1]['event_id'].nunique()\n",
    "created_orders = df[df['create_order_flag'] == 1]['event_id'].nunique()\n",
    "\n",
    "print(\"Анализ общей воронки продаж:\")\n",
    "print(f\"Количество просмотров карточек: {total_views}\")\n",
    "print(f\"Количество добавлений в корзину: {added_to_cart}\")\n",
    "print(f\"Количество оформленных заказов: {created_orders}\")\n",
    "print(f\"Конверсия просмотр -> корзина: {added_to_cart / total_views:.2%}\")\n",
    "print(f\"Конверсия корзина -> заказ: {created_orders / added_to_cart:.2%}\")"
   ]
  },
  {
   "cell_type": "code",
   "execution_count": 13,
   "metadata": {},
   "outputs": [
    {
     "data": {
      "application/vnd.plotly.v1+json": {
       "config": {
        "plotlyServerURL": "https://plot.ly"
       },
       "data": [
        {
         "textinfo": "value+percent initial",
         "type": "funnel",
         "x": {
          "bdata": "IYUBAGZJAADPEwAA",
          "dtype": "i4"
         },
         "y": [
          "Просмотры",
          "Добавлено в корзину",
          "Заказы"
         ]
        }
       ],
       "layout": {
        "font": {
         "size": 14
        },
        "template": {
         "data": {
          "bar": [
           {
            "error_x": {
             "color": "#2a3f5f"
            },
            "error_y": {
             "color": "#2a3f5f"
            },
            "marker": {
             "line": {
              "color": "#E5ECF6",
              "width": 0.5
             },
             "pattern": {
              "fillmode": "overlay",
              "size": 10,
              "solidity": 0.2
             }
            },
            "type": "bar"
           }
          ],
          "barpolar": [
           {
            "marker": {
             "line": {
              "color": "#E5ECF6",
              "width": 0.5
             },
             "pattern": {
              "fillmode": "overlay",
              "size": 10,
              "solidity": 0.2
             }
            },
            "type": "barpolar"
           }
          ],
          "carpet": [
           {
            "aaxis": {
             "endlinecolor": "#2a3f5f",
             "gridcolor": "white",
             "linecolor": "white",
             "minorgridcolor": "white",
             "startlinecolor": "#2a3f5f"
            },
            "baxis": {
             "endlinecolor": "#2a3f5f",
             "gridcolor": "white",
             "linecolor": "white",
             "minorgridcolor": "white",
             "startlinecolor": "#2a3f5f"
            },
            "type": "carpet"
           }
          ],
          "choropleth": [
           {
            "colorbar": {
             "outlinewidth": 0,
             "ticks": ""
            },
            "type": "choropleth"
           }
          ],
          "contour": [
           {
            "colorbar": {
             "outlinewidth": 0,
             "ticks": ""
            },
            "colorscale": [
             [
              0,
              "#0d0887"
             ],
             [
              0.1111111111111111,
              "#46039f"
             ],
             [
              0.2222222222222222,
              "#7201a8"
             ],
             [
              0.3333333333333333,
              "#9c179e"
             ],
             [
              0.4444444444444444,
              "#bd3786"
             ],
             [
              0.5555555555555556,
              "#d8576b"
             ],
             [
              0.6666666666666666,
              "#ed7953"
             ],
             [
              0.7777777777777778,
              "#fb9f3a"
             ],
             [
              0.8888888888888888,
              "#fdca26"
             ],
             [
              1,
              "#f0f921"
             ]
            ],
            "type": "contour"
           }
          ],
          "contourcarpet": [
           {
            "colorbar": {
             "outlinewidth": 0,
             "ticks": ""
            },
            "type": "contourcarpet"
           }
          ],
          "heatmap": [
           {
            "colorbar": {
             "outlinewidth": 0,
             "ticks": ""
            },
            "colorscale": [
             [
              0,
              "#0d0887"
             ],
             [
              0.1111111111111111,
              "#46039f"
             ],
             [
              0.2222222222222222,
              "#7201a8"
             ],
             [
              0.3333333333333333,
              "#9c179e"
             ],
             [
              0.4444444444444444,
              "#bd3786"
             ],
             [
              0.5555555555555556,
              "#d8576b"
             ],
             [
              0.6666666666666666,
              "#ed7953"
             ],
             [
              0.7777777777777778,
              "#fb9f3a"
             ],
             [
              0.8888888888888888,
              "#fdca26"
             ],
             [
              1,
              "#f0f921"
             ]
            ],
            "type": "heatmap"
           }
          ],
          "histogram": [
           {
            "marker": {
             "pattern": {
              "fillmode": "overlay",
              "size": 10,
              "solidity": 0.2
             }
            },
            "type": "histogram"
           }
          ],
          "histogram2d": [
           {
            "colorbar": {
             "outlinewidth": 0,
             "ticks": ""
            },
            "colorscale": [
             [
              0,
              "#0d0887"
             ],
             [
              0.1111111111111111,
              "#46039f"
             ],
             [
              0.2222222222222222,
              "#7201a8"
             ],
             [
              0.3333333333333333,
              "#9c179e"
             ],
             [
              0.4444444444444444,
              "#bd3786"
             ],
             [
              0.5555555555555556,
              "#d8576b"
             ],
             [
              0.6666666666666666,
              "#ed7953"
             ],
             [
              0.7777777777777778,
              "#fb9f3a"
             ],
             [
              0.8888888888888888,
              "#fdca26"
             ],
             [
              1,
              "#f0f921"
             ]
            ],
            "type": "histogram2d"
           }
          ],
          "histogram2dcontour": [
           {
            "colorbar": {
             "outlinewidth": 0,
             "ticks": ""
            },
            "colorscale": [
             [
              0,
              "#0d0887"
             ],
             [
              0.1111111111111111,
              "#46039f"
             ],
             [
              0.2222222222222222,
              "#7201a8"
             ],
             [
              0.3333333333333333,
              "#9c179e"
             ],
             [
              0.4444444444444444,
              "#bd3786"
             ],
             [
              0.5555555555555556,
              "#d8576b"
             ],
             [
              0.6666666666666666,
              "#ed7953"
             ],
             [
              0.7777777777777778,
              "#fb9f3a"
             ],
             [
              0.8888888888888888,
              "#fdca26"
             ],
             [
              1,
              "#f0f921"
             ]
            ],
            "type": "histogram2dcontour"
           }
          ],
          "mesh3d": [
           {
            "colorbar": {
             "outlinewidth": 0,
             "ticks": ""
            },
            "type": "mesh3d"
           }
          ],
          "parcoords": [
           {
            "line": {
             "colorbar": {
              "outlinewidth": 0,
              "ticks": ""
             }
            },
            "type": "parcoords"
           }
          ],
          "pie": [
           {
            "automargin": true,
            "type": "pie"
           }
          ],
          "scatter": [
           {
            "fillpattern": {
             "fillmode": "overlay",
             "size": 10,
             "solidity": 0.2
            },
            "type": "scatter"
           }
          ],
          "scatter3d": [
           {
            "line": {
             "colorbar": {
              "outlinewidth": 0,
              "ticks": ""
             }
            },
            "marker": {
             "colorbar": {
              "outlinewidth": 0,
              "ticks": ""
             }
            },
            "type": "scatter3d"
           }
          ],
          "scattercarpet": [
           {
            "marker": {
             "colorbar": {
              "outlinewidth": 0,
              "ticks": ""
             }
            },
            "type": "scattercarpet"
           }
          ],
          "scattergeo": [
           {
            "marker": {
             "colorbar": {
              "outlinewidth": 0,
              "ticks": ""
             }
            },
            "type": "scattergeo"
           }
          ],
          "scattergl": [
           {
            "marker": {
             "colorbar": {
              "outlinewidth": 0,
              "ticks": ""
             }
            },
            "type": "scattergl"
           }
          ],
          "scattermap": [
           {
            "marker": {
             "colorbar": {
              "outlinewidth": 0,
              "ticks": ""
             }
            },
            "type": "scattermap"
           }
          ],
          "scattermapbox": [
           {
            "marker": {
             "colorbar": {
              "outlinewidth": 0,
              "ticks": ""
             }
            },
            "type": "scattermapbox"
           }
          ],
          "scatterpolar": [
           {
            "marker": {
             "colorbar": {
              "outlinewidth": 0,
              "ticks": ""
             }
            },
            "type": "scatterpolar"
           }
          ],
          "scatterpolargl": [
           {
            "marker": {
             "colorbar": {
              "outlinewidth": 0,
              "ticks": ""
             }
            },
            "type": "scatterpolargl"
           }
          ],
          "scatterternary": [
           {
            "marker": {
             "colorbar": {
              "outlinewidth": 0,
              "ticks": ""
             }
            },
            "type": "scatterternary"
           }
          ],
          "surface": [
           {
            "colorbar": {
             "outlinewidth": 0,
             "ticks": ""
            },
            "colorscale": [
             [
              0,
              "#0d0887"
             ],
             [
              0.1111111111111111,
              "#46039f"
             ],
             [
              0.2222222222222222,
              "#7201a8"
             ],
             [
              0.3333333333333333,
              "#9c179e"
             ],
             [
              0.4444444444444444,
              "#bd3786"
             ],
             [
              0.5555555555555556,
              "#d8576b"
             ],
             [
              0.6666666666666666,
              "#ed7953"
             ],
             [
              0.7777777777777778,
              "#fb9f3a"
             ],
             [
              0.8888888888888888,
              "#fdca26"
             ],
             [
              1,
              "#f0f921"
             ]
            ],
            "type": "surface"
           }
          ],
          "table": [
           {
            "cells": {
             "fill": {
              "color": "#EBF0F8"
             },
             "line": {
              "color": "white"
             }
            },
            "header": {
             "fill": {
              "color": "#C8D4E3"
             },
             "line": {
              "color": "white"
             }
            },
            "type": "table"
           }
          ]
         },
         "layout": {
          "annotationdefaults": {
           "arrowcolor": "#2a3f5f",
           "arrowhead": 0,
           "arrowwidth": 1
          },
          "autotypenumbers": "strict",
          "coloraxis": {
           "colorbar": {
            "outlinewidth": 0,
            "ticks": ""
           }
          },
          "colorscale": {
           "diverging": [
            [
             0,
             "#8e0152"
            ],
            [
             0.1,
             "#c51b7d"
            ],
            [
             0.2,
             "#de77ae"
            ],
            [
             0.3,
             "#f1b6da"
            ],
            [
             0.4,
             "#fde0ef"
            ],
            [
             0.5,
             "#f7f7f7"
            ],
            [
             0.6,
             "#e6f5d0"
            ],
            [
             0.7,
             "#b8e186"
            ],
            [
             0.8,
             "#7fbc41"
            ],
            [
             0.9,
             "#4d9221"
            ],
            [
             1,
             "#276419"
            ]
           ],
           "sequential": [
            [
             0,
             "#0d0887"
            ],
            [
             0.1111111111111111,
             "#46039f"
            ],
            [
             0.2222222222222222,
             "#7201a8"
            ],
            [
             0.3333333333333333,
             "#9c179e"
            ],
            [
             0.4444444444444444,
             "#bd3786"
            ],
            [
             0.5555555555555556,
             "#d8576b"
            ],
            [
             0.6666666666666666,
             "#ed7953"
            ],
            [
             0.7777777777777778,
             "#fb9f3a"
            ],
            [
             0.8888888888888888,
             "#fdca26"
            ],
            [
             1,
             "#f0f921"
            ]
           ],
           "sequentialminus": [
            [
             0,
             "#0d0887"
            ],
            [
             0.1111111111111111,
             "#46039f"
            ],
            [
             0.2222222222222222,
             "#7201a8"
            ],
            [
             0.3333333333333333,
             "#9c179e"
            ],
            [
             0.4444444444444444,
             "#bd3786"
            ],
            [
             0.5555555555555556,
             "#d8576b"
            ],
            [
             0.6666666666666666,
             "#ed7953"
            ],
            [
             0.7777777777777778,
             "#fb9f3a"
            ],
            [
             0.8888888888888888,
             "#fdca26"
            ],
            [
             1,
             "#f0f921"
            ]
           ]
          },
          "colorway": [
           "#636efa",
           "#EF553B",
           "#00cc96",
           "#ab63fa",
           "#FFA15A",
           "#19d3f3",
           "#FF6692",
           "#B6E880",
           "#FF97FF",
           "#FECB52"
          ],
          "font": {
           "color": "#2a3f5f"
          },
          "geo": {
           "bgcolor": "white",
           "lakecolor": "white",
           "landcolor": "#E5ECF6",
           "showlakes": true,
           "showland": true,
           "subunitcolor": "white"
          },
          "hoverlabel": {
           "align": "left"
          },
          "hovermode": "closest",
          "mapbox": {
           "style": "light"
          },
          "paper_bgcolor": "white",
          "plot_bgcolor": "#E5ECF6",
          "polar": {
           "angularaxis": {
            "gridcolor": "white",
            "linecolor": "white",
            "ticks": ""
           },
           "bgcolor": "#E5ECF6",
           "radialaxis": {
            "gridcolor": "white",
            "linecolor": "white",
            "ticks": ""
           }
          },
          "scene": {
           "xaxis": {
            "backgroundcolor": "#E5ECF6",
            "gridcolor": "white",
            "gridwidth": 2,
            "linecolor": "white",
            "showbackground": true,
            "ticks": "",
            "zerolinecolor": "white"
           },
           "yaxis": {
            "backgroundcolor": "#E5ECF6",
            "gridcolor": "white",
            "gridwidth": 2,
            "linecolor": "white",
            "showbackground": true,
            "ticks": "",
            "zerolinecolor": "white"
           },
           "zaxis": {
            "backgroundcolor": "#E5ECF6",
            "gridcolor": "white",
            "gridwidth": 2,
            "linecolor": "white",
            "showbackground": true,
            "ticks": "",
            "zerolinecolor": "white"
           }
          },
          "shapedefaults": {
           "line": {
            "color": "#2a3f5f"
           }
          },
          "ternary": {
           "aaxis": {
            "gridcolor": "white",
            "linecolor": "white",
            "ticks": ""
           },
           "baxis": {
            "gridcolor": "white",
            "linecolor": "white",
            "ticks": ""
           },
           "bgcolor": "#E5ECF6",
           "caxis": {
            "gridcolor": "white",
            "linecolor": "white",
            "ticks": ""
           }
          },
          "title": {
           "x": 0.05
          },
          "xaxis": {
           "automargin": true,
           "gridcolor": "white",
           "linecolor": "white",
           "ticks": "",
           "title": {
            "standoff": 15
           },
           "zerolinecolor": "white",
           "zerolinewidth": 2
          },
          "yaxis": {
           "automargin": true,
           "gridcolor": "white",
           "linecolor": "white",
           "ticks": "",
           "title": {
            "standoff": 15
           },
           "zerolinecolor": "white",
           "zerolinewidth": 2
          }
         }
        },
        "title": {
         "text": "Воронка онлайн-продаж",
         "x": 0.5
        }
       }
      }
     },
     "metadata": {},
     "output_type": "display_data"
    }
   ],
   "source": [
    "import plotly.graph_objects as go\n",
    "\n",
    "funnel_data = pd.DataFrame({\n",
    "    'Этап': ['Просмотры', 'Добавлено в корзину', 'Заказы'],\n",
    "    'Количество': [total_views, added_to_cart, created_orders]\n",
    "})\n",
    "\n",
    "fig = go.Figure(go.Funnel(\n",
    "    y = funnel_data['Этап'],\n",
    "    x = funnel_data['Количество'],\n",
    "    textinfo = \"value+percent initial\"\n",
    "))\n",
    "\n",
    "fig.update_layout(\n",
    "    title_text='Воронка онлайн-продаж',\n",
    "    title_x=0.5,\n",
    "    font_size=14\n",
    ")\n",
    "fig.show()"
   ]
  },
  {
   "cell_type": "markdown",
   "metadata": {},
   "source": [
    "### Анализ по типу устройства"
   ]
  },
  {
   "cell_type": "code",
   "execution_count": 14,
   "metadata": {},
   "outputs": [
    {
     "name": "stdout",
     "output_type": "stream",
     "text": [
      "Воронка продаж по типу устройства \n",
      "         device_type  total_views  added_to_cart  created_orders  click_to_cart_rate  cart_to_order_rate\n",
      "0            desktop        11788           1367             314            0.115965            0.229700\n",
      "1  mobileapp_android        56175          10817            2935            0.192559            0.271332\n",
      "2      mobileapp_ios        31654           6606            1822            0.208694            0.275810\n"
     ]
    }
   ],
   "source": [
    "funnel_by_device = df.groupby('device_type').agg(\n",
    "    total_views=('event_id', 'count'),\n",
    "    added_to_cart=('add_to_cart_flag', lambda x: (x == 1).sum()),\n",
    "    created_orders=('create_order_flag', lambda x: (x == 1).sum())\n",
    ").reset_index()\n",
    "\n",
    "funnel_by_device['click_to_cart_rate'] = funnel_by_device['added_to_cart'] / funnel_by_device['total_views']\n",
    "funnel_by_device['cart_to_order_rate'] = funnel_by_device['created_orders'] / funnel_by_device['added_to_cart']\n",
    "funnel_by_device.fillna(0, inplace=True) # Заполняем nan если нет добавлений в корзину\n",
    "\n",
    "print(\"Воронка продаж по типу устройства \")\n",
    "print(funnel_by_device.to_string())"
   ]
  },
  {
   "cell_type": "code",
   "execution_count": 15,
   "metadata": {},
   "outputs": [
    {
     "data": {
      "image/png": "[encoded data removed]",
      "text/plain": [
       "<Figure size 1400x600 with 2 Axes>"
      ]
     },
     "metadata": {},
     "output_type": "display_data"
    }
   ],
   "source": [
    "fig, axes = plt.subplots(1, 2, figsize=(14, 6))\n",
    "\n",
    "axes[0].bar(funnel_by_device['device_type'], funnel_by_device['click_to_cart_rate'], color=['skyblue', 'salmon', 'lightgreen'])\n",
    "axes[0].set_title('Конверсия из просмотра в корзину по типу устройства', fontsize=14)\n",
    "axes[0].set_ylabel('Коэффициент конверсии', fontsize=12)\n",
    "axes[0].set_xlabel('Тип устройства', fontsize=12)\n",
    "axes[0].grid(axis='y', linestyle='--', alpha=0.7)\n",
    "\n",
    "for i, rate in enumerate(funnel_by_device['click_to_cart_rate']):\n",
    "    axes[0].text(i, rate + 0.001, f'{rate:.2%}', ha='center', va='bottom', fontsize=10)\n",
    "\n",
    "\n",
    "axes[1].bar(funnel_by_device['device_type'], funnel_by_device['cart_to_order_rate'], color=['skyblue', 'salmon', 'lightgreen'])\n",
    "axes[1].set_title('Конверсия из корзины в заказ по типу устройства', fontsize=14)\n",
    "axes[1].set_ylabel('Коэффициент конверсии', fontsize=12)\n",
    "axes[1].set_xlabel('Тип устройства', fontsize=12)\n",
    "axes[1].grid(axis='y', linestyle='--', alpha=0.7)\n",
    "\n",
    "\n",
    "for i, rate in enumerate(funnel_by_device['cart_to_order_rate']):\n",
    "    axes[1].text(i, rate + 0.001, f'{rate:.2%}', ha='center', va='bottom', fontsize=10)\n",
    "\n",
    "plt.tight_layout()\n",
    "plt.show()"
   ]
  },
  {
   "cell_type": "markdown",
   "metadata": {},
   "source": [
    "### Анализ по авторизации"
   ]
  },
  {
   "cell_type": "markdown",
   "metadata": {},
   "source": []
  },
  {
   "cell_type": "code",
   "execution_count": 16,
   "metadata": {},
   "outputs": [
    {
     "name": "stdout",
     "output_type": "stream",
     "text": [
      "Воронка продаж по авторизации пользователя\n",
      "  user_is_authorized  total_views  added_to_cart  created_orders  click_to_cart_rate  cart_to_order_rate\n",
      "0     Не авторизован        12824            974              44            0.075951            0.045175\n",
      "1        Авторизован        86793          17816            5027            0.205270            0.282162\n"
     ]
    }
   ],
   "source": [
    "funnel_by_auth = df.groupby('user_is_authorized').agg(\n",
    "    total_views=('event_id', 'count'),\n",
    "    added_to_cart=('add_to_cart_flag', lambda x: (x == 1).sum()),\n",
    "    created_orders=('create_order_flag', lambda x: (x == 1).sum())\n",
    ").reset_index()\n",
    "\n",
    "funnel_by_auth['click_to_cart_rate'] = funnel_by_auth['added_to_cart'] / funnel_by_auth['total_views']\n",
    "funnel_by_auth['cart_to_order_rate'] = funnel_by_auth['created_orders'] / funnel_by_auth['added_to_cart']\n",
    "funnel_by_auth['user_is_authorized'] = funnel_by_auth['user_is_authorized'].map({1: 'Авторизован', 0: 'Не авторизован'})\n",
    "funnel_by_auth.fillna(0, inplace=True)\n",
    "\n",
    "print(\"Воронка продаж по авторизации пользователя\")\n",
    "print(funnel_by_auth.to_string())"
   ]
  },
  {
   "cell_type": "code",
   "execution_count": 17,
   "metadata": {},
   "outputs": [
    {
     "data": {
      "image/png": "[encoded data removed]",
      "text/plain": [
       "<Figure size 1400x600 with 2 Axes>"
      ]
     },
     "metadata": {},
     "output_type": "display_data"
    }
   ],
   "source": [
    "fig, axes = plt.subplots(1, 2, figsize=(14, 6))\n",
    "\n",
    "axes[0].bar(funnel_by_auth['user_is_authorized'], funnel_by_auth['click_to_cart_rate'], color=['purple', 'orange'])\n",
    "axes[0].set_title('Конверсия из просмотра в корзину по статусу авторизации', fontsize=14)\n",
    "axes[0].set_ylabel('Коэффициент конверсии', fontsize=12)\n",
    "axes[0].grid(axis='y', linestyle='--', alpha=0.7)\n",
    "\n",
    "for i, rate in enumerate(funnel_by_auth['click_to_cart_rate']):\n",
    "    axes[0].text(i, rate + 0.001, f'{rate:.2%}', ha='center', va='bottom', fontsize=10)\n",
    "\n",
    "axes[1].bar(funnel_by_auth['user_is_authorized'], funnel_by_auth['cart_to_order_rate'], color=['purple', 'orange'])\n",
    "axes[1].set_title('Конверсия из корзины в заказ по статусу авторизации', fontsize=14)\n",
    "axes[1].set_ylabel('Коэффициент конверсии', fontsize=12)\n",
    "axes[1].grid(axis='y', linestyle='--', alpha=0.7)\n",
    "\n",
    "for i, rate in enumerate(funnel_by_auth['cart_to_order_rate']):\n",
    "    axes[1].text(i, rate + 0.001, f'{rate:.2%}', ha='center', va='bottom', fontsize=10)\n",
    "\n",
    "plt.tight_layout()\n",
    "plt.show()"
   ]
  },
  {
   "cell_type": "markdown",
   "metadata": {},
   "source": [
    "###  Анализ по категории товара"
   ]
  },
  {
   "cell_type": "code",
   "execution_count": 18,
   "metadata": {},
   "outputs": [
    {
     "name": "stdout",
     "output_type": "stream",
     "text": [
      "Конверсия по категориям товаров топ-5\n",
      "                  total_views  created_orders  conversion_rate\n",
      "product_category                                              \n",
      "одежда                  47597            2593         0.054478\n",
      "инвентарь               13870             711         0.051262\n",
      "обувь                   38150            1767         0.046317\n"
     ]
    }
   ],
   "source": [
    "category_conversion = df.groupby('product_category').agg(\n",
    "    total_views=('event_id', 'count'),\n",
    "    created_orders=('create_order_flag', lambda x: (x == 1).sum())\n",
    ")\n",
    "category_conversion['conversion_rate'] = category_conversion['created_orders'] / category_conversion['total_views']\n",
    "\n",
    "print(\"Конверсия по категориям товаров топ-5\")\n",
    "print(category_conversion.sort_values(by='conversion_rate', ascending=False).head(5))"
   ]
  },
  {
   "cell_type": "code",
   "execution_count": 19,
   "metadata": {},
   "outputs": [
    {
     "data": {
      "image/png": "[encoded data removed]",
      "text/plain": [
       "<Figure size 1000x700 with 1 Axes>"
      ]
     },
     "metadata": {},
     "output_type": "display_data"
    }
   ],
   "source": [
    "top_3_categories = category_conversion.sort_values(by='conversion_rate', ascending=False).head(5)\n",
    "\n",
    "plt.figure(figsize=(10, 7))\n",
    "plt.barh(top_3_categories.index, top_3_categories['conversion_rate'], color='teal')\n",
    "plt.xlabel('Коэффициент конверсии', fontsize=12)\n",
    "plt.ylabel('Категория товара', fontsize=12)\n",
    "plt.title('Топ-3 категории по коэффициенту конверсии', fontsize=14)\n",
    "plt.grid(axis='x', linestyle='--', alpha=0.7)\n",
    "\n",
    "\n",
    "for index, value in enumerate(top_3_categories['conversion_rate']):\n",
    "    plt.text(value + 0.001, index, f'{value:.2%}', va='center', fontsize=10)\n",
    "\n",
    "plt.gca().invert_yaxis() \n",
    "plt.show()"
   ]
  },
  {
   "cell_type": "markdown",
   "metadata": {},
   "source": [
    "### Сегментация клиентов (RFM)"
   ]
  },
  {
   "cell_type": "code",
   "execution_count": 20,
   "metadata": {},
   "outputs": [
    {
     "name": "stdout",
     "output_type": "stream",
     "text": [
      "\n",
      "--- Распределение пользователей по сегментам ---\n",
      "Segment\n",
      "Другие     2640\n",
      "Новички     390\n",
      "Name: count, dtype: int64\n"
     ]
    }
   ],
   "source": [
    "orders_df = df[df['create_order_flag'] == 1].copy()\n",
    "\n",
    "last_date = df['create_timestamp'].max() + pd.Timedelta(days=1)\n",
    "\n",
    "\n",
    "rfm_df = orders_df.groupby('user_id').agg(\n",
    "    Recency=('create_timestamp', lambda x: (last_date - x.max()).days),\n",
    "    Frequency=('event_id', 'count'),\n",
    "    Monetary=('product_price', 'sum')\n",
    ").reset_index()\n",
    "\n",
    "rfm_df['R_score_temp'] = pd.qcut(rfm_df['Recency'], 5, labels=False, duplicates='drop')\n",
    "rfm_df['F_score'] = pd.qcut(rfm_df['Frequency'], 5, labels=False, duplicates='drop') + 1\n",
    "rfm_df['M_score'] = pd.qcut(rfm_df['Monetary'], 5, labels=False, duplicates='drop') + 1\n",
    "\n",
    "max_r_score = rfm_df['R_score_temp'].max()\n",
    "rfm_df['R_score'] = max_r_score - rfm_df['R_score_temp'] + 1\n",
    "\n",
    "\n",
    "rfm_df['RFM_score'] = rfm_df['R_score'].astype(str) + rfm_df['F_score'].astype(str) + rfm_df['M_score'].astype(str)\n",
    "\n",
    "def rfm_segment(score):\n",
    "    if score in ['555', '544', '455', '445']:\n",
    "        return 'Чемпионы'\n",
    "    elif score in ['511', '411', '311']:\n",
    "        return 'Новички'\n",
    "    elif score in ['155', '144', '154']:\n",
    "        return 'Спящие'\n",
    "    else:\n",
    "        return 'Другие'\n",
    "\n",
    "rfm_df['Segment'] = rfm_df['RFM_score'].apply(rfm_segment)\n",
    "\n",
    "print(\"\\n--- Распределение пользователей по сегментам ---\")\n",
    "print(rfm_df['Segment'].value_counts())"
   ]
  },
  {
   "cell_type": "code",
   "execution_count": 21,
   "metadata": {},
   "outputs": [
    {
     "data": {
      "image/png": "[encoded data removed]",
      "text/plain": [
       "<Figure size 800x600 with 1 Axes>"
      ]
     },
     "metadata": {},
     "output_type": "display_data"
    }
   ],
   "source": [
    "segment_counts = rfm_df['Segment'].value_counts()\n",
    "\n",
    "plt.figure(figsize=(8, 6))\n",
    "segment_counts.plot(kind='bar', color=['skyblue', 'salmon'])\n",
    "plt.title('Распределение пользователей по RFM-сегментам', fontsize=14)\n",
    "plt.xlabel('Сегмент', fontsize=12)\n",
    "plt.ylabel('Количество пользователей', fontsize=12)\n",
    "plt.xticks(rotation=0)\n",
    "plt.show()"
   ]
  },
  {
   "cell_type": "markdown",
   "metadata": {},
   "source": [
    "Датасет охватывает всего 21 день. За этот короткий период большинство пользователей, которые совершили покупку, сделали это только один раз. Они не могут быть отнесены к «Чемпионам» (потому что их Frequency слишком низка), но и не являются «Спящими» (потому что их Recency слишком высока). Они попадают в сегмент «Другие»."
   ]
  }
 ],
 "metadata": {
  "kernelspec": {
   "display_name": "ml_course",
   "language": "python",
   "name": "python3"
  },
  "language_info": {
   "codemirror_mode": {
    "name": "ipython",
    "version": 3
   },
   "file_extension": ".py",
   "mimetype": "text/x-python",
   "name": "python",
   "nbconvert_exporter": "python",
   "pygments_lexer": "ipython3",
   "version": "3.9.22"
  }
 },
 "nbformat": 4,
 "nbformat_minor": 2
}
